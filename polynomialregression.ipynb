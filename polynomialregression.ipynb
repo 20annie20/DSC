{
  "nbformat": 4,
  "nbformat_minor": 0,
  "metadata": {
    "colab": {
      "name": "Untitled4.ipynb",
      "provenance": [],
      "collapsed_sections": [],
      "authorship_tag": "ABX9TyOLU2TlMrmaNO3peiKmR030",
      "include_colab_link": true
    },
    "kernelspec": {
      "name": "python3",
      "display_name": "Python 3"
    }
  },
  "cells": [
    {
      "cell_type": "markdown",
      "metadata": {
        "id": "view-in-github",
        "colab_type": "text"
      },
      "source": [
        "<a href=\"https://colab.research.google.com/github/20annie20/DSC/blob/master/polynomialregression.ipynb\" target=\"_parent\"><img src=\"https://colab.research.google.com/assets/colab-badge.svg\" alt=\"Open In Colab\"/></a>"
      ]
    },
    {
      "cell_type": "code",
      "metadata": {
        "id": "gJ9Y0lrRgSIE",
        "colab_type": "code",
        "colab": {
          "base_uri": "https://localhost:8080/",
          "height": 509
        },
        "outputId": "619edcce-c928-42f6-9caa-2535a6006f49"
      },
      "source": [
        "# Importing the libraries \n",
        "import numpy as np \n",
        "import matplotlib.pyplot as plt \n",
        "import pandas as pd \n",
        "  \n",
        "# Importing the dataset \n",
        "datas = pd.read_csv('data.csv') \n",
        "datas "
      ],
      "execution_count": 1,
      "outputs": [
        {
          "output_type": "execute_result",
          "data": {
            "text/html": [
              "<div>\n",
              "<style scoped>\n",
              "    .dataframe tbody tr th:only-of-type {\n",
              "        vertical-align: middle;\n",
              "    }\n",
              "\n",
              "    .dataframe tbody tr th {\n",
              "        vertical-align: top;\n",
              "    }\n",
              "\n",
              "    .dataframe thead th {\n",
              "        text-align: right;\n",
              "    }\n",
              "</style>\n",
              "<table border=\"1\" class=\"dataframe\">\n",
              "  <thead>\n",
              "    <tr style=\"text-align: right;\">\n",
              "      <th></th>\n",
              "      <th>value</th>\n",
              "      <th>x</th>\n",
              "      <th>y</th>\n",
              "    </tr>\n",
              "  </thead>\n",
              "  <tbody>\n",
              "    <tr>\n",
              "      <th>0</th>\n",
              "      <td>1</td>\n",
              "      <td>5.00000</td>\n",
              "      <td>7321.46</td>\n",
              "    </tr>\n",
              "    <tr>\n",
              "      <th>1</th>\n",
              "      <td>2</td>\n",
              "      <td>5.03448</td>\n",
              "      <td>6462.77</td>\n",
              "    </tr>\n",
              "    <tr>\n",
              "      <th>2</th>\n",
              "      <td>3</td>\n",
              "      <td>5.06897</td>\n",
              "      <td>6671.45</td>\n",
              "    </tr>\n",
              "    <tr>\n",
              "      <th>3</th>\n",
              "      <td>4</td>\n",
              "      <td>5.10345</td>\n",
              "      <td>6799.14</td>\n",
              "    </tr>\n",
              "    <tr>\n",
              "      <th>4</th>\n",
              "      <td>5</td>\n",
              "      <td>5.13793</td>\n",
              "      <td>7678.74</td>\n",
              "    </tr>\n",
              "    <tr>\n",
              "      <th>5</th>\n",
              "      <td>6</td>\n",
              "      <td>5.17241</td>\n",
              "      <td>7267.03</td>\n",
              "    </tr>\n",
              "    <tr>\n",
              "      <th>6</th>\n",
              "      <td>7</td>\n",
              "      <td>5.20690</td>\n",
              "      <td>8149.58</td>\n",
              "    </tr>\n",
              "    <tr>\n",
              "      <th>7</th>\n",
              "      <td>8</td>\n",
              "      <td>5.24138</td>\n",
              "      <td>8925.87</td>\n",
              "    </tr>\n",
              "    <tr>\n",
              "      <th>8</th>\n",
              "      <td>9</td>\n",
              "      <td>5.27586</td>\n",
              "      <td>7778.01</td>\n",
              "    </tr>\n",
              "    <tr>\n",
              "      <th>9</th>\n",
              "      <td>10</td>\n",
              "      <td>5.31034</td>\n",
              "      <td>7951.56</td>\n",
              "    </tr>\n",
              "    <tr>\n",
              "      <th>10</th>\n",
              "      <td>11</td>\n",
              "      <td>5.34483</td>\n",
              "      <td>8249.64</td>\n",
              "    </tr>\n",
              "    <tr>\n",
              "      <th>11</th>\n",
              "      <td>12</td>\n",
              "      <td>5.37931</td>\n",
              "      <td>9497.87</td>\n",
              "    </tr>\n",
              "    <tr>\n",
              "      <th>12</th>\n",
              "      <td>13</td>\n",
              "      <td>5.41379</td>\n",
              "      <td>9788.16</td>\n",
              "    </tr>\n",
              "    <tr>\n",
              "      <th>13</th>\n",
              "      <td>14</td>\n",
              "      <td>5.44828</td>\n",
              "      <td>9097.83</td>\n",
              "    </tr>\n",
              "    <tr>\n",
              "      <th>14</th>\n",
              "      <td>15</td>\n",
              "      <td>5.48276</td>\n",
              "      <td>9630.91</td>\n",
              "    </tr>\n",
              "  </tbody>\n",
              "</table>\n",
              "</div>"
            ],
            "text/plain": [
              "    value        x        y\n",
              "0       1  5.00000  7321.46\n",
              "1       2  5.03448  6462.77\n",
              "2       3  5.06897  6671.45\n",
              "3       4  5.10345  6799.14\n",
              "4       5  5.13793  7678.74\n",
              "5       6  5.17241  7267.03\n",
              "6       7  5.20690  8149.58\n",
              "7       8  5.24138  8925.87\n",
              "8       9  5.27586  7778.01\n",
              "9      10  5.31034  7951.56\n",
              "10     11  5.34483  8249.64\n",
              "11     12  5.37931  9497.87\n",
              "12     13  5.41379  9788.16\n",
              "13     14  5.44828  9097.83\n",
              "14     15  5.48276  9630.91"
            ]
          },
          "metadata": {
            "tags": []
          },
          "execution_count": 1
        }
      ]
    },
    {
      "cell_type": "code",
      "metadata": {
        "id": "He3gptwogcAn",
        "colab_type": "code",
        "colab": {}
      },
      "source": [
        "X = datas.iloc[:, 1:2].values \n",
        "y = datas.iloc[:, 2].values"
      ],
      "execution_count": 0,
      "outputs": []
    },
    {
      "cell_type": "code",
      "metadata": {
        "id": "jX5tS1pMh-_x",
        "colab_type": "code",
        "colab": {
          "base_uri": "https://localhost:8080/",
          "height": 35
        },
        "outputId": "9d0fcffd-c722-4827-9092-b953625ea42b"
      },
      "source": [
        "# Fitting Linear Regression to the dataset \n",
        "from sklearn.linear_model import LinearRegression \n",
        "lin = LinearRegression() \n",
        "  \n",
        "lin.fit(X, y) "
      ],
      "execution_count": 3,
      "outputs": [
        {
          "output_type": "execute_result",
          "data": {
            "text/plain": [
              "LinearRegression(copy_X=True, fit_intercept=True, n_jobs=None, normalize=False)"
            ]
          },
          "metadata": {
            "tags": []
          },
          "execution_count": 3
        }
      ]
    },
    {
      "cell_type": "code",
      "metadata": {
        "id": "HjeIqNY4iBrN",
        "colab_type": "code",
        "colab": {
          "base_uri": "https://localhost:8080/",
          "height": 35
        },
        "outputId": "18378249-7ba4-48e1-aeb2-fe9b41ae1bd7"
      },
      "source": [
        "# Fitting Polynomial Regression to the dataset \n",
        "from sklearn.preprocessing import PolynomialFeatures \n",
        "  \n",
        "poly = PolynomialFeatures(degree = 4) \n",
        "X_poly = poly.fit_transform(X) \n",
        "  \n",
        "poly.fit(X_poly, y) \n",
        "lin2 = LinearRegression() \n",
        "lin2.fit(X_poly, y) "
      ],
      "execution_count": 4,
      "outputs": [
        {
          "output_type": "execute_result",
          "data": {
            "text/plain": [
              "LinearRegression(copy_X=True, fit_intercept=True, n_jobs=None, normalize=False)"
            ]
          },
          "metadata": {
            "tags": []
          },
          "execution_count": 4
        }
      ]
    },
    {
      "cell_type": "code",
      "metadata": {
        "id": "MqSkfnfsiF0N",
        "colab_type": "code",
        "colab": {
          "base_uri": "https://localhost:8080/",
          "height": 295
        },
        "outputId": "dbdc6ff8-0235-4f41-a32b-b0b54cce35f2"
      },
      "source": [
        "# Visualising the Linear Regression results \n",
        "plt.scatter(X, y, color = 'blue') \n",
        "  \n",
        "plt.plot(X, lin.predict(X), color = 'red') \n",
        "plt.title('Linear Regression') \n",
        "plt.xlabel('x') \n",
        "plt.ylabel('y') \n",
        "  \n",
        "plt.show() "
      ],
      "execution_count": 5,
      "outputs": [
        {
          "output_type": "display_data",
          "data": {
            "image/png": "[encoded data removed]",
            "text/plain": [
              "<Figure size 432x288 with 1 Axes>"
            ]
          },
          "metadata": {
            "tags": []
          }
        }
      ]
    },
    {
      "cell_type": "code",
      "metadata": {
        "id": "GsV0UHCAiJEu",
        "colab_type": "code",
        "colab": {
          "base_uri": "https://localhost:8080/",
          "height": 295
        },
        "outputId": "057fe0c8-e6b7-455f-df8c-179549534976"
      },
      "source": [
        "# Visualising the Polynomial Regression results \n",
        "plt.scatter(X, y, color = 'blue') \n",
        "  \n",
        "plt.plot(X, lin2.predict(poly.fit_transform(X)), color = 'red') \n",
        "plt.title('Polynomial Regression') \n",
        "plt.xlabel('x') \n",
        "plt.ylabel('y') \n",
        "  \n",
        "plt.show() "
      ],
      "execution_count": 6,
      "outputs": [
        {
          "output_type": "display_data",
          "data": {
            "image/png": "[encoded data removed]",
            "text/plain": [
              "<Figure size 432x288 with 1 Axes>"
            ]
          },
          "metadata": {
            "tags": []
          }
        }
      ]
    }
  ]
}